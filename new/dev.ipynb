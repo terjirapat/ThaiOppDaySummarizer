{
 "cells": [
  {
   "cell_type": "code",
   "execution_count": 8,
   "id": "01f5f264",
   "metadata": {},
   "outputs": [],
   "source": [
    "import os, re, math, time, textwrap\n",
    "from typing import List, Tuple\n",
    "import psycopg2\n",
    "import psycopg2.extras\n",
    "import ollama\n",
    "from youtube_transcript_api import YouTubeTranscriptApi, TranscriptsDisabled, NoTranscriptFound\n",
    "import requests\n",
    "from bs4 import BeautifulSoup"
   ]
  },
  {
   "cell_type": "code",
   "execution_count": 21,
   "id": "6dda95da",
   "metadata": {},
   "outputs": [],
   "source": [
    "def extract_video_id(url: str) -> str:\n",
    "    m = re.search(r\"(?:v=|youtu\\.be/|shorts/)([A-Za-z0-9_-]{6,})\", url)\n",
    "    return m.group(1) if m else url\n",
    "\n",
    "def extract_video_title(url: str) -> str:\n",
    "    response = requests.get(url)\n",
    "    soup = BeautifulSoup(response.text, 'html.parser')\n",
    "    title = soup.title.string.replace(\" - YouTube\", \"\").strip()\n",
    "    return re.sub(r'[^0-9a-zA-Z\\u0E00-\\u0E7F\\.]', '', title)\n",
    "\n",
    "def get_youtube_transcript(video_id: str) -> str:\n",
    "    try:\n",
    "        tlist = YouTubeTranscriptApi.get_transcript(video_id, languages=['th', 'en'])\n",
    "    except TranscriptsDisabled:\n",
    "        raise RuntimeError(\"Transcripts are disabled for this video.\")\n",
    "    except NoTranscriptFound:\n",
    "        raise RuntimeError(\"No transcript found for this video.\")\n",
    "    # Merge with spaces; keep punctuation minimal\n",
    "    text = \" \".join([item[\"text\"].strip() for item in tlist if item[\"text\"].strip()])\n",
    "    # Normalize whitespace\n",
    "    text = re.sub(r\"\\s+\", \" \", text).strip()\n",
    "    return text"
   ]
  },
  {
   "cell_type": "code",
   "execution_count": 54,
   "id": "124e8dfb",
   "metadata": {},
   "outputs": [
    {
     "name": "stdout",
     "output_type": "stream",
     "text": [
      "url: https://youtu.be/KSbXyRZQbUY?si=gGv553ps5TI-FDQa\n",
      "video_id: KSbXyRZQbUY\n",
      "video_title: ยังมีโอกาสสร้างความมั่งคั่งได้อยู่ไหมในยุคแบบนี้\n"
     ]
    }
   ],
   "source": [
    "url = \"https://youtu.be/KSbXyRZQbUY?si=gGv553ps5TI-FDQa\"\n",
    "\n",
    "video_id = extract_video_id(url=url)\n",
    "video_title = extract_video_title(url=url)\n",
    "text = get_youtube_transcript(video_id=video_id)\n",
    "\n",
    "print(f\"url: {url}\")\n",
    "print(f\"video_id: {video_id}\")\n",
    "print(f\"video_title: {video_title}\")"
   ]
  },
  {
   "cell_type": "code",
   "execution_count": 51,
   "id": "badf4810",
   "metadata": {},
   "outputs": [],
   "source": [
    "from pythainlp.tokenize import word_tokenize\n",
    "\n",
    "def chunk_thai_text(text, max_tokens, overlap):\n",
    "    \"\"\"\n",
    "    Chunk Thai text using PyThaiNLP word tokenizer with overlap.\n",
    "    \"\"\"\n",
    "    words = word_tokenize(text, keep_whitespace=False)\n",
    "    chunks = []\n",
    "    start = 0\n",
    "\n",
    "    while start < len(words):\n",
    "        end = min(start + max_tokens, len(words))\n",
    "        chunk = ''.join(words[start:end])  # Join with no spaces for Thai\n",
    "        chunks.append(chunk)\n",
    "        start += max_tokens - overlap\n",
    "\n",
    "    return chunks\n",
    "\n",
    "# Example usage:\n",
    "chunks = chunk_thai_text(text=text, max_tokens=1000, overlap=200)"
   ]
  },
  {
   "cell_type": "code",
   "execution_count": null,
   "id": "6d79bef9",
   "metadata": {},
   "outputs": [],
   "source": [
    "def ingest_video(url_or_id: str) -> Tuple[str, int]:\n",
    "    video_id = extract_video_id(url_or_id)\n",
    "    print(f\"Fetching transcript for: {video_id}\")\n",
    "    transcript = get_youtube_transcript(video_id)\n",
    "    chunks = smart_split(transcript)\n",
    "    print(f\"Transcript length: {len(transcript):,} chars; chunks: {len(chunks)}\")\n",
    "\n",
    "    print(\"Embedding chunks via Ollama...\")\n",
    "    chunk_embs = embed_texts(chunks)\n",
    "    dim = len(chunk_embs[0])\n",
    "\n",
    "    print(f\"Initializing DB (dim={dim}) and storing chunks...\")\n",
    "    init_db(dim)\n",
    "    clear_video(video_id)\n",
    "    upsert_chunks(video_id, chunks, chunk_embs)\n",
    "\n",
    "    return video_id, len(chunks)"
   ]
  }
 ],
 "metadata": {
  "kernelspec": {
   "display_name": "ollama_test",
   "language": "python",
   "name": "python3"
  },
  "language_info": {
   "codemirror_mode": {
    "name": "ipython",
    "version": 3
   },
   "file_extension": ".py",
   "mimetype": "text/x-python",
   "name": "python",
   "nbconvert_exporter": "python",
   "pygments_lexer": "ipython3",
   "version": "3.13.5"
  }
 },
 "nbformat": 4,
 "nbformat_minor": 5
}
