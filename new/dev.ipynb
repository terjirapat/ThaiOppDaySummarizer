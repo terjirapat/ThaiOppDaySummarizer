{
 "cells": [
  {
   "cell_type": "code",
   "execution_count": 1,
   "id": "01f5f264",
   "metadata": {},
   "outputs": [],
   "source": [
    "import os, re, math, time, textwrap\n",
    "from typing import List, Tuple\n",
    "import psycopg2\n",
    "import psycopg2.extras\n",
    "import ollama\n",
    "from youtube_transcript_api import YouTubeTranscriptApi, TranscriptsDisabled, NoTranscriptFound\n",
    "import requests\n",
    "from bs4 import BeautifulSoup"
   ]
  },
  {
   "cell_type": "code",
   "execution_count": 2,
   "id": "4122b848",
   "metadata": {},
   "outputs": [],
   "source": [
    "# ---------- Config ----------\n",
    "PGHOST     = os.getenv(\"PGHOST\", \"localhost\")\n",
    "PGPORT     = int(os.getenv(\"PGPORT\", 5432))\n",
    "PGDATABASE = os.getenv(\"PGDATABASE\", \"ragdb\")\n",
    "PGUSER     = os.getenv(\"PGUSER\", \"rag\")\n",
    "PGPASSWORD = os.getenv(\"PGPASSWORD\", \"ragpw\")\n",
    "\n",
    "GEN_MODEL = os.getenv(\"GEN_MODEL\", \"llama3:8b\")\n",
    "EMB_MODEL = os.getenv(\"EMB_MODEL\", \"nomic-embed-text\")  # dimension typically 768\n",
    "TOP_K     = int(os.getenv(\"TOP_K\", 6))\n",
    "CHUNK_TARGET_CHARS = int(os.getenv(\"CHUNK_TARGET_CHARS\", 1000))  # ~roughly 150–200 tokens\n",
    "OVERLAP_CHARS      = int(os.getenv(\"OVERLAP_CHARS\", 120))\n",
    "\n",
    "TABLE_NAME = \"youtube_docs\""
   ]
  },
  {
   "cell_type": "code",
   "execution_count": 14,
   "id": "422817e1",
   "metadata": {},
   "outputs": [
    {
     "ename": "OperationalError",
     "evalue": "connection to server at \"localhost\" (::1), port 5432 failed: fe_sendauth: no password supplied\n",
     "output_type": "error",
     "traceback": [
      "\u001b[31m---------------------------------------------------------------------------\u001b[39m",
      "\u001b[31mOperationalError\u001b[39m                          Traceback (most recent call last)",
      "\u001b[36mCell\u001b[39m\u001b[36m \u001b[39m\u001b[32mIn[14]\u001b[39m\u001b[32m, line 3\u001b[39m\n\u001b[32m      1\u001b[39m \u001b[38;5;28;01mimport\u001b[39;00m\u001b[38;5;250m \u001b[39m\u001b[34;01mpsycopg2\u001b[39;00m\n\u001b[32m----> \u001b[39m\u001b[32m3\u001b[39m conn = \u001b[43mpsycopg2\u001b[49m\u001b[43m.\u001b[49m\u001b[43mconnect\u001b[49m\u001b[43m(\u001b[49m\n\u001b[32m      4\u001b[39m \u001b[43m    \u001b[49m\u001b[43mhost\u001b[49m\u001b[43m=\u001b[49m\u001b[33;43m\"\u001b[39;49m\u001b[33;43mlocalhost\u001b[39;49m\u001b[33;43m\"\u001b[39;49m\u001b[43m,\u001b[49m\u001b[43m   \u001b[49m\u001b[38;5;66;43;03m# or \"127.0.0.1\"\u001b[39;49;00m\n\u001b[32m      5\u001b[39m \u001b[43m    \u001b[49m\u001b[43mport\u001b[49m\u001b[43m=\u001b[49m\u001b[32;43m5432\u001b[39;49m\u001b[43m,\u001b[49m\n\u001b[32m      6\u001b[39m \u001b[43m    \u001b[49m\u001b[43mdbname\u001b[49m\u001b[43m=\u001b[49m\u001b[33;43m\"\u001b[39;49m\u001b[33;43mragdb\u001b[39;49m\u001b[33;43m\"\u001b[39;49m\u001b[43m,\u001b[49m\n\u001b[32m      7\u001b[39m \u001b[43m    \u001b[49m\u001b[43muser\u001b[49m\u001b[43m=\u001b[49m\u001b[33;43m\"\u001b[39;49m\u001b[33;43mrag\u001b[39;49m\u001b[33;43m\"\u001b[39;49m\n\u001b[32m      8\u001b[39m \u001b[43m)\u001b[49m\n\u001b[32m     10\u001b[39m cur = conn.cursor()\n\u001b[32m     11\u001b[39m cur.execute(\u001b[33m\"\u001b[39m\u001b[33mSELECT 1;\u001b[39m\u001b[33m\"\u001b[39m)\n",
      "\u001b[36mFile \u001b[39m\u001b[32mc:\\Users\\terjr\\miniconda3\\envs\\ollama_test\\Lib\\site-packages\\psycopg2\\__init__.py:135\u001b[39m, in \u001b[36mconnect\u001b[39m\u001b[34m(dsn, connection_factory, cursor_factory, **kwargs)\u001b[39m\n\u001b[32m    132\u001b[39m     kwasync[\u001b[33m'\u001b[39m\u001b[33masync_\u001b[39m\u001b[33m'\u001b[39m] = kwargs.pop(\u001b[33m'\u001b[39m\u001b[33masync_\u001b[39m\u001b[33m'\u001b[39m)\n\u001b[32m    134\u001b[39m dsn = _ext.make_dsn(dsn, **kwargs)\n\u001b[32m--> \u001b[39m\u001b[32m135\u001b[39m conn = \u001b[43m_connect\u001b[49m\u001b[43m(\u001b[49m\u001b[43mdsn\u001b[49m\u001b[43m,\u001b[49m\u001b[43m \u001b[49m\u001b[43mconnection_factory\u001b[49m\u001b[43m=\u001b[49m\u001b[43mconnection_factory\u001b[49m\u001b[43m,\u001b[49m\u001b[43m \u001b[49m\u001b[43m*\u001b[49m\u001b[43m*\u001b[49m\u001b[43mkwasync\u001b[49m\u001b[43m)\u001b[49m\n\u001b[32m    136\u001b[39m \u001b[38;5;28;01mif\u001b[39;00m cursor_factory \u001b[38;5;129;01mis\u001b[39;00m \u001b[38;5;129;01mnot\u001b[39;00m \u001b[38;5;28;01mNone\u001b[39;00m:\n\u001b[32m    137\u001b[39m     conn.cursor_factory = cursor_factory\n",
      "\u001b[31mOperationalError\u001b[39m: connection to server at \"localhost\" (::1), port 5432 failed: fe_sendauth: no password supplied\n"
     ]
    }
   ],
   "source": [
    "import psycopg2\n",
    "\n",
    "conn = psycopg2.connect(\n",
    "    host=\"localhost\",   # or \"127.0.0.1\"\n",
    "    port=5432,\n",
    "    dbname=\"ragdb\",\n",
    "    user=\"rag\"\n",
    ")\n",
    "\n",
    "cur = conn.cursor()\n",
    "cur.execute(\"SELECT 1;\")\n",
    "print(cur.fetchone())\n",
    "conn.close()\n"
   ]
  },
  {
   "cell_type": "code",
   "execution_count": 47,
   "id": "c687a116",
   "metadata": {},
   "outputs": [
    {
     "ename": "OperationalError",
     "evalue": "connection to server at \"localhost\" (::1), port 5432 failed: FATAL:  password authentication failed for user \"rag\"\n",
     "output_type": "error",
     "traceback": [
      "\u001b[31m---------------------------------------------------------------------------\u001b[39m",
      "\u001b[31mOperationalError\u001b[39m                          Traceback (most recent call last)",
      "\u001b[36mCell\u001b[39m\u001b[36m \u001b[39m\u001b[32mIn[47]\u001b[39m\u001b[32m, line 6\u001b[39m\n\u001b[32m      1\u001b[39m \u001b[38;5;28;01mdef\u001b[39;00m\u001b[38;5;250m \u001b[39m\u001b[34mget_conn\u001b[39m():\n\u001b[32m      2\u001b[39m     \u001b[38;5;28;01mreturn\u001b[39;00m psycopg2.connect(\n\u001b[32m      3\u001b[39m         host=PGHOST, port=PGPORT, dbname=PGDATABASE, user=PGUSER, password=PGPASSWORD\n\u001b[32m      4\u001b[39m     )\n\u001b[32m----> \u001b[39m\u001b[32m6\u001b[39m test = \u001b[43mget_conn\u001b[49m\u001b[43m(\u001b[49m\u001b[43m)\u001b[49m\n",
      "\u001b[36mCell\u001b[39m\u001b[36m \u001b[39m\u001b[32mIn[47]\u001b[39m\u001b[32m, line 2\u001b[39m, in \u001b[36mget_conn\u001b[39m\u001b[34m()\u001b[39m\n\u001b[32m      1\u001b[39m \u001b[38;5;28;01mdef\u001b[39;00m\u001b[38;5;250m \u001b[39m\u001b[34mget_conn\u001b[39m():\n\u001b[32m----> \u001b[39m\u001b[32m2\u001b[39m     \u001b[38;5;28;01mreturn\u001b[39;00m \u001b[43mpsycopg2\u001b[49m\u001b[43m.\u001b[49m\u001b[43mconnect\u001b[49m\u001b[43m(\u001b[49m\n\u001b[32m      3\u001b[39m \u001b[43m        \u001b[49m\u001b[43mhost\u001b[49m\u001b[43m=\u001b[49m\u001b[43mPGHOST\u001b[49m\u001b[43m,\u001b[49m\u001b[43m \u001b[49m\u001b[43mport\u001b[49m\u001b[43m=\u001b[49m\u001b[43mPGPORT\u001b[49m\u001b[43m,\u001b[49m\u001b[43m \u001b[49m\u001b[43mdbname\u001b[49m\u001b[43m=\u001b[49m\u001b[43mPGDATABASE\u001b[49m\u001b[43m,\u001b[49m\u001b[43m \u001b[49m\u001b[43muser\u001b[49m\u001b[43m=\u001b[49m\u001b[43mPGUSER\u001b[49m\u001b[43m,\u001b[49m\u001b[43m \u001b[49m\u001b[43mpassword\u001b[49m\u001b[43m=\u001b[49m\u001b[43mPGPASSWORD\u001b[49m\n\u001b[32m      4\u001b[39m \u001b[43m    \u001b[49m\u001b[43m)\u001b[49m\n",
      "\u001b[36mFile \u001b[39m\u001b[32mc:\\Users\\terjr\\miniconda3\\envs\\ollama_test\\Lib\\site-packages\\psycopg2\\__init__.py:135\u001b[39m, in \u001b[36mconnect\u001b[39m\u001b[34m(dsn, connection_factory, cursor_factory, **kwargs)\u001b[39m\n\u001b[32m    132\u001b[39m     kwasync[\u001b[33m'\u001b[39m\u001b[33masync_\u001b[39m\u001b[33m'\u001b[39m] = kwargs.pop(\u001b[33m'\u001b[39m\u001b[33masync_\u001b[39m\u001b[33m'\u001b[39m)\n\u001b[32m    134\u001b[39m dsn = _ext.make_dsn(dsn, **kwargs)\n\u001b[32m--> \u001b[39m\u001b[32m135\u001b[39m conn = \u001b[43m_connect\u001b[49m\u001b[43m(\u001b[49m\u001b[43mdsn\u001b[49m\u001b[43m,\u001b[49m\u001b[43m \u001b[49m\u001b[43mconnection_factory\u001b[49m\u001b[43m=\u001b[49m\u001b[43mconnection_factory\u001b[49m\u001b[43m,\u001b[49m\u001b[43m \u001b[49m\u001b[43m*\u001b[49m\u001b[43m*\u001b[49m\u001b[43mkwasync\u001b[49m\u001b[43m)\u001b[49m\n\u001b[32m    136\u001b[39m \u001b[38;5;28;01mif\u001b[39;00m cursor_factory \u001b[38;5;129;01mis\u001b[39;00m \u001b[38;5;129;01mnot\u001b[39;00m \u001b[38;5;28;01mNone\u001b[39;00m:\n\u001b[32m    137\u001b[39m     conn.cursor_factory = cursor_factory\n",
      "\u001b[31mOperationalError\u001b[39m: connection to server at \"localhost\" (::1), port 5432 failed: FATAL:  password authentication failed for user \"rag\"\n"
     ]
    }
   ],
   "source": [
    "def get_conn():\n",
    "    return psycopg2.connect(\n",
    "        host=PGHOST, port=PGPORT, dbname=PGDATABASE, user=PGUSER, password=PGPASSWORD\n",
    "    )\n",
    "\n",
    "test = get_conn()"
   ]
  },
  {
   "cell_type": "code",
   "execution_count": null,
   "id": "4c6f07ac",
   "metadata": {},
   "outputs": [],
   "source": [
    "# ---------- DB ----------\n",
    "def get_conn():\n",
    "    return psycopg2.connect(\n",
    "        host=PGHOST, port=PGPORT, dbname=PGDATABASE, user=PGUSER, password=PGPASSWORD\n",
    "    )\n",
    "\n",
    "def init_db(embedding_dim: int):\n",
    "    with get_conn() as conn, conn.cursor() as cur:\n",
    "        cur.execute(\"CREATE EXTENSION IF NOT EXISTS vector;\")\n",
    "        # Create table with dynamic vector dimension\n",
    "        cur.execute(f\"\"\"\n",
    "            CREATE TABLE IF NOT EXISTS {TABLE_NAME} (\n",
    "              id SERIAL PRIMARY KEY,\n",
    "              video_id TEXT NOT NULL,\n",
    "              chunk_id INT NOT NULL,\n",
    "              content TEXT NOT NULL,\n",
    "              embedding vector({embedding_dim}) NOT NULL\n",
    "            );\n",
    "        \"\"\")\n",
    "        # Fast index (IVFFlat) for cosine distance\n",
    "        cur.execute(f\"CREATE INDEX IF NOT EXISTS {TABLE_NAME}_ivfflat_idx ON {TABLE_NAME} USING ivfflat (embedding vector_cosine_ops) WITH (lists = 100);\")\n",
    "        # Helpful default probing\n",
    "        cur.execute(\"SET ivfflat.probes = 10;\")\n",
    "        conn.commit()\n",
    "\n",
    "def clear_video(video_id: str):\n",
    "    with get_conn() as conn, conn.cursor() as cur:\n",
    "        cur.execute(f\"DELETE FROM {TABLE_NAME} WHERE video_id = %s;\", (video_id,))\n",
    "        conn.commit()\n",
    "\n",
    "def upsert_chunks(video_id: str, chunks: List[str], embeddings: List[List[float]]):\n",
    "    assert len(chunks) == len(embeddings)\n",
    "    with get_conn() as conn, conn.cursor() as cur:\n",
    "        psycopg2.extras.execute_batch(\n",
    "            cur,\n",
    "            f\"INSERT INTO {TABLE_NAME} (video_id, chunk_id, content, embedding) VALUES (%s, %s, %s, %s);\",\n",
    "            [(video_id, i, chunks[i], embeddings[i]) for i in range(len(chunks))],\n",
    "            page_size=500\n",
    "        )\n",
    "        conn.commit()\n",
    "\n",
    "def search(query_embedding: List[float], video_id: str, k: int = TOP_K) -> List[Tuple[int, str, float]]:\n",
    "    with get_conn() as conn, conn.cursor() as cur:\n",
    "        cur.execute(\n",
    "            f\"\"\"\n",
    "            SELECT chunk_id, content, (embedding <=> %s::vector) AS distance\n",
    "            FROM {TABLE_NAME}\n",
    "            WHERE video_id = %s\n",
    "            ORDER BY embedding <=> %s::vector\n",
    "            LIMIT %s;\n",
    "            \"\"\",\n",
    "            (query_embedding, video_id, query_embedding, k)\n",
    "        )\n",
    "        rows = cur.fetchall()\n",
    "        return [(r[0], r[1], float(r[2])) for r in rows]"
   ]
  },
  {
   "cell_type": "code",
   "execution_count": 2,
   "id": "6dda95da",
   "metadata": {},
   "outputs": [],
   "source": [
    "def extract_video_id(url: str) -> str:\n",
    "    m = re.search(r\"(?:v=|youtu\\.be/|shorts/)([A-Za-z0-9_-]{6,})\", url)\n",
    "    return m.group(1) if m else url\n",
    "\n",
    "def extract_video_title(url: str) -> str:\n",
    "    response = requests.get(url)\n",
    "    soup = BeautifulSoup(response.text, 'html.parser')\n",
    "    title = soup.title.string.replace(\" - YouTube\", \"\").strip()\n",
    "    return re.sub(r'[^0-9a-zA-Z\\u0E00-\\u0E7F\\.]', '', title)\n",
    "\n",
    "def get_youtube_transcript(video_id: str) -> str:\n",
    "    try:\n",
    "        tlist = YouTubeTranscriptApi.get_transcript(video_id, languages=['th', 'en'])\n",
    "    except TranscriptsDisabled:\n",
    "        raise RuntimeError(\"Transcripts are disabled for this video.\")\n",
    "    except NoTranscriptFound:\n",
    "        raise RuntimeError(\"No transcript found for this video.\")\n",
    "    # Merge with spaces; keep punctuation minimal\n",
    "    text = \" \".join([item[\"text\"].strip() for item in tlist if item[\"text\"].strip()])\n",
    "    # Normalize whitespace\n",
    "    text = re.sub(r\"\\s+\", \" \", text).strip()\n",
    "    return text"
   ]
  },
  {
   "cell_type": "code",
   "execution_count": 9,
   "id": "5bce927a",
   "metadata": {},
   "outputs": [],
   "source": [
    "# ---------- Ollama helpers ----------\n",
    "def embed_texts(texts: List[str]) -> List[List[float]]:\n",
    "    # Batch embed via Ollama (simple loop; Ollama also supports /embeddings endpoint per text)\n",
    "    embs = []\n",
    "    for t in texts:\n",
    "        r = ollama.embeddings(model=EMB_MODEL, prompt=t)\n",
    "        embs.append(r[\"embedding\"])\n",
    "    return embs\n",
    "\n",
    "def generate(prompt: str, temperature: float = 0.2) -> str:\n",
    "    resp = ollama.generate(\n",
    "        model=GEN_MODEL,\n",
    "        prompt=prompt,\n",
    "        options={\"temperature\": temperature}\n",
    "    )\n",
    "    return resp[\"response\"]"
   ]
  },
  {
   "cell_type": "code",
   "execution_count": 10,
   "id": "124e8dfb",
   "metadata": {},
   "outputs": [
    {
     "name": "stdout",
     "output_type": "stream",
     "text": [
      "url: https://youtu.be/KSbXyRZQbUY?si=gGv553ps5TI-FDQa\n",
      "video_id: KSbXyRZQbUY\n",
      "video_title: ยังมีโอกาสสร้างความมั่งคั่งได้อยู่ไหมในยุคแบบนี้\n"
     ]
    }
   ],
   "source": [
    "url = \"https://youtu.be/KSbXyRZQbUY?si=gGv553ps5TI-FDQa\"\n",
    "\n",
    "video_id = extract_video_id(url=url)\n",
    "video_title = extract_video_title(url=url)\n",
    "text = get_youtube_transcript(video_id=video_id)\n",
    "\n",
    "print(f\"url: {url}\")\n",
    "print(f\"video_id: {video_id}\")\n",
    "print(f\"video_title: {video_title}\")"
   ]
  },
  {
   "cell_type": "code",
   "execution_count": 17,
   "id": "badf4810",
   "metadata": {},
   "outputs": [],
   "source": [
    "from pythainlp.tokenize import word_tokenize\n",
    "\n",
    "def chunk_thai_text(text, max_tokens: int = CHUNK_TARGET_CHARS, overlap: int = OVERLAP_CHARS) -> List[str]:\n",
    "    \"\"\"\n",
    "    Chunk Thai text using PyThaiNLP word tokenizer with overlap.\n",
    "    \"\"\"\n",
    "    words = word_tokenize(text, keep_whitespace=False)\n",
    "    chunks = []\n",
    "    start = 0\n",
    "\n",
    "    while start < len(words):\n",
    "        end = min(start + max_tokens, len(words))\n",
    "        chunk = ''.join(words[start:end])  # Join with no spaces for Thai\n",
    "        chunks.append(chunk)\n",
    "        start += max_tokens - overlap\n",
    "\n",
    "    return chunks\n",
    "\n",
    "# Example usage:\n",
    "chunks = chunk_thai_text(text=text)"
   ]
  },
  {
   "cell_type": "code",
   "execution_count": 25,
   "id": "6d79bef9",
   "metadata": {},
   "outputs": [],
   "source": [
    "def ingest_video(url_or_id: str) -> Tuple[str, int]:\n",
    "    video_id = extract_video_id(url_or_id)\n",
    "    print(f\"Fetching transcript for: {video_id}\")\n",
    "    transcript = get_youtube_transcript(video_id)\n",
    "    chunks = chunk_thai_text(transcript)\n",
    "    print(f\"Transcript length: {len(transcript):,} chars; chunks: {len(chunks)}\")\n",
    "\n",
    "    print(\"Embedding chunks via Ollama...\")\n",
    "    chunk_embs = embed_texts(chunks)\n",
    "    dim = len(chunk_embs[0])\n",
    "\n",
    "    print(f\"Initializing DB (dim={dim}) and storing chunks...\")\n",
    "    init_db(dim)\n",
    "    clear_video(video_id)\n",
    "    upsert_chunks(video_id, chunks, chunk_embs)\n",
    "\n",
    "    return video_id, len(chunks)"
   ]
  },
  {
   "cell_type": "code",
   "execution_count": 26,
   "id": "0f97be7a",
   "metadata": {},
   "outputs": [
    {
     "name": "stdout",
     "output_type": "stream",
     "text": [
      "Fetching transcript for: KSbXyRZQbUY\n",
      "Transcript length: 57,018 chars; chunks: 18\n",
      "Embedding chunks via Ollama...\n",
      "Initializing DB (dim=768) and storing chunks...\n"
     ]
    },
    {
     "ename": "OperationalError",
     "evalue": "connection to server at \"localhost\" (::1), port 5432 failed: FATAL:  password authentication failed for user \"rag\"\n",
     "output_type": "error",
     "traceback": [
      "\u001b[31m---------------------------------------------------------------------------\u001b[39m",
      "\u001b[31mOperationalError\u001b[39m                          Traceback (most recent call last)",
      "\u001b[36mCell\u001b[39m\u001b[36m \u001b[39m\u001b[32mIn[26]\u001b[39m\u001b[32m, line 1\u001b[39m\n\u001b[32m----> \u001b[39m\u001b[32m1\u001b[39m \u001b[43mingest_video\u001b[49m\u001b[43m(\u001b[49m\u001b[43murl\u001b[49m\u001b[43m)\u001b[49m\n",
      "\u001b[36mCell\u001b[39m\u001b[36m \u001b[39m\u001b[32mIn[25]\u001b[39m\u001b[32m, line 13\u001b[39m, in \u001b[36mingest_video\u001b[39m\u001b[34m(url_or_id)\u001b[39m\n\u001b[32m     10\u001b[39m dim = \u001b[38;5;28mlen\u001b[39m(chunk_embs[\u001b[32m0\u001b[39m])\n\u001b[32m     12\u001b[39m \u001b[38;5;28mprint\u001b[39m(\u001b[33mf\u001b[39m\u001b[33m\"\u001b[39m\u001b[33mInitializing DB (dim=\u001b[39m\u001b[38;5;132;01m{\u001b[39;00mdim\u001b[38;5;132;01m}\u001b[39;00m\u001b[33m) and storing chunks...\u001b[39m\u001b[33m\"\u001b[39m)\n\u001b[32m---> \u001b[39m\u001b[32m13\u001b[39m \u001b[43minit_db\u001b[49m\u001b[43m(\u001b[49m\u001b[43mdim\u001b[49m\u001b[43m)\u001b[49m\n\u001b[32m     14\u001b[39m clear_video(video_id)\n\u001b[32m     15\u001b[39m upsert_chunks(video_id, chunks, chunk_embs)\n",
      "\u001b[36mCell\u001b[39m\u001b[36m \u001b[39m\u001b[32mIn[8]\u001b[39m\u001b[32m, line 8\u001b[39m, in \u001b[36minit_db\u001b[39m\u001b[34m(embedding_dim)\u001b[39m\n\u001b[32m      7\u001b[39m \u001b[38;5;28;01mdef\u001b[39;00m\u001b[38;5;250m \u001b[39m\u001b[34minit_db\u001b[39m(embedding_dim: \u001b[38;5;28mint\u001b[39m):\n\u001b[32m----> \u001b[39m\u001b[32m8\u001b[39m     \u001b[38;5;28;01mwith\u001b[39;00m \u001b[43mget_conn\u001b[49m\u001b[43m(\u001b[49m\u001b[43m)\u001b[49m \u001b[38;5;28;01mas\u001b[39;00m conn, conn.cursor() \u001b[38;5;28;01mas\u001b[39;00m cur:\n\u001b[32m      9\u001b[39m         cur.execute(\u001b[33m\"\u001b[39m\u001b[33mCREATE EXTENSION IF NOT EXISTS vector;\u001b[39m\u001b[33m\"\u001b[39m)\n\u001b[32m     10\u001b[39m         \u001b[38;5;66;03m# Create table with dynamic vector dimension\u001b[39;00m\n",
      "\u001b[36mCell\u001b[39m\u001b[36m \u001b[39m\u001b[32mIn[8]\u001b[39m\u001b[32m, line 3\u001b[39m, in \u001b[36mget_conn\u001b[39m\u001b[34m()\u001b[39m\n\u001b[32m      2\u001b[39m \u001b[38;5;28;01mdef\u001b[39;00m\u001b[38;5;250m \u001b[39m\u001b[34mget_conn\u001b[39m():\n\u001b[32m----> \u001b[39m\u001b[32m3\u001b[39m     \u001b[38;5;28;01mreturn\u001b[39;00m \u001b[43mpsycopg2\u001b[49m\u001b[43m.\u001b[49m\u001b[43mconnect\u001b[49m\u001b[43m(\u001b[49m\n\u001b[32m      4\u001b[39m \u001b[43m        \u001b[49m\u001b[43mhost\u001b[49m\u001b[43m=\u001b[49m\u001b[43mPGHOST\u001b[49m\u001b[43m,\u001b[49m\u001b[43m \u001b[49m\u001b[43mport\u001b[49m\u001b[43m=\u001b[49m\u001b[43mPGPORT\u001b[49m\u001b[43m,\u001b[49m\u001b[43m \u001b[49m\u001b[43mdbname\u001b[49m\u001b[43m=\u001b[49m\u001b[43mPGDATABASE\u001b[49m\u001b[43m,\u001b[49m\u001b[43m \u001b[49m\u001b[43muser\u001b[49m\u001b[43m=\u001b[49m\u001b[43mPGUSER\u001b[49m\u001b[43m,\u001b[49m\u001b[43m \u001b[49m\u001b[43mpassword\u001b[49m\u001b[43m=\u001b[49m\u001b[43mPGPASSWORD\u001b[49m\n\u001b[32m      5\u001b[39m \u001b[43m    \u001b[49m\u001b[43m)\u001b[49m\n",
      "\u001b[36mFile \u001b[39m\u001b[32mc:\\Users\\terjr\\miniconda3\\envs\\ollama_test\\Lib\\site-packages\\psycopg2\\__init__.py:135\u001b[39m, in \u001b[36mconnect\u001b[39m\u001b[34m(dsn, connection_factory, cursor_factory, **kwargs)\u001b[39m\n\u001b[32m    132\u001b[39m     kwasync[\u001b[33m'\u001b[39m\u001b[33masync_\u001b[39m\u001b[33m'\u001b[39m] = kwargs.pop(\u001b[33m'\u001b[39m\u001b[33masync_\u001b[39m\u001b[33m'\u001b[39m)\n\u001b[32m    134\u001b[39m dsn = _ext.make_dsn(dsn, **kwargs)\n\u001b[32m--> \u001b[39m\u001b[32m135\u001b[39m conn = \u001b[43m_connect\u001b[49m\u001b[43m(\u001b[49m\u001b[43mdsn\u001b[49m\u001b[43m,\u001b[49m\u001b[43m \u001b[49m\u001b[43mconnection_factory\u001b[49m\u001b[43m=\u001b[49m\u001b[43mconnection_factory\u001b[49m\u001b[43m,\u001b[49m\u001b[43m \u001b[49m\u001b[43m*\u001b[49m\u001b[43m*\u001b[49m\u001b[43mkwasync\u001b[49m\u001b[43m)\u001b[49m\n\u001b[32m    136\u001b[39m \u001b[38;5;28;01mif\u001b[39;00m cursor_factory \u001b[38;5;129;01mis\u001b[39;00m \u001b[38;5;129;01mnot\u001b[39;00m \u001b[38;5;28;01mNone\u001b[39;00m:\n\u001b[32m    137\u001b[39m     conn.cursor_factory = cursor_factory\n",
      "\u001b[31mOperationalError\u001b[39m: connection to server at \"localhost\" (::1), port 5432 failed: FATAL:  password authentication failed for user \"rag\"\n"
     ]
    }
   ],
   "source": [
    "ingest_video(url)"
   ]
  },
  {
   "cell_type": "code",
   "execution_count": 22,
   "id": "b3ce72d8",
   "metadata": {},
   "outputs": [
    {
     "data": {
      "text/plain": [
       "ArgumentParser(prog='ipykernel_launcher.py', usage=None, description='RAG on YouTube subtitles using Ollama + pgvector', formatter_class=<class 'argparse.HelpFormatter'>, conflict_handler='error', add_help=True)"
      ]
     },
     "execution_count": 22,
     "metadata": {},
     "output_type": "execute_result"
    }
   ],
   "source": [
    "import argparse\n",
    "parser = argparse.ArgumentParser(description=\"RAG on YouTube subtitles using Ollama + pgvector\")\n",
    "parser"
   ]
  }
 ],
 "metadata": {
  "kernelspec": {
   "display_name": "ollama_test",
   "language": "python",
   "name": "python3"
  },
  "language_info": {
   "codemirror_mode": {
    "name": "ipython",
    "version": 3
   },
   "file_extension": ".py",
   "mimetype": "text/x-python",
   "name": "python",
   "nbconvert_exporter": "python",
   "pygments_lexer": "ipython3",
   "version": "3.13.5"
  }
 },
 "nbformat": 4,
 "nbformat_minor": 5
}
