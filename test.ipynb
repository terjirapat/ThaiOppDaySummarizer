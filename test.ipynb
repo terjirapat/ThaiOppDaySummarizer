{
 "cells": [
  {
   "cell_type": "code",
   "execution_count": null,
   "id": "a003720a",
   "metadata": {},
   "outputs": [
    {
     "name": "stdout",
     "output_type": "stream",
     "text": [
      "model='llama3' created_at='2025-07-05T11:29:00.1991758Z' done=True done_reason='stop' total_duration=5152562100 load_duration=36317300 prompt_eval_count=18 prompt_eval_duration=69349500 eval_count=238 eval_duration=5046392900 response=\"Blast off! Here's a fun fact:\\n\\n**The Universe is Still Growing, and It's Getting Bigger Faster Than You Think!**\\n\\nDid you know that the universe is expanding at an incredible rate? In 1929, astronomer Edwin Hubble discovered that galaxies are moving away from each other, and this led to the realization that the universe itself is expanding. But here's the amazing part: the expansion is accelerating!\\n\\nIn 1998, scientists observed a type of star called Type Ia supernovae, which have consistent brightness. By measuring how these stars were moving away from us, they found that the expansion was not slowing down, as would be expected due to gravity, but instead getting faster and faster! This discovery led to the realization that about 70% of the universe is made up of a mysterious substance called dark energy.\\n\\nIn short, the universe is still growing, and it's doing so at an incredible rate. In fact, some galaxies are moving away from us at speeds of over 100,000 miles per hour! That's like flying around the Earth almost 4 times in just one second!\\n\\nIsn't that mind-blowing?\" thinking=None context=[128006, 882, 128007, 271, 41551, 757, 264, 2523, 2144, 922, 3634, 13, 128009, 128006, 78191, 128007, 271, 33, 4354, 1022, 0, 5810, 596, 264, 2523, 2144, 1473, 334, 791, 29849, 374, 16782, 60780, 11, 323, 1102, 596, 25531, 426, 4601, 85586, 34776, 1472, 21834, 0, 57277, 7131, 499, 1440, 430, 279, 15861, 374, 24050, 520, 459, 15400, 4478, 30, 763, 220, 5926, 24, 11, 46382, 261, 76249, 473, 14942, 11352, 430, 66017, 527, 7366, 3201, 505, 1855, 1023, 11, 323, 420, 6197, 311, 279, 49803, 430, 279, 15861, 5196, 374, 24050, 13, 2030, 1618, 596, 279, 8056, 961, 25, 279, 14800, 374, 69741, 2268, 644, 220, 2550, 23, 11, 14248, 13468, 264, 955, 315, 6917, 2663, 4078, 358, 64, 39887, 869, 6043, 11, 902, 617, 13263, 33306, 13, 3296, 30090, 1268, 1521, 9958, 1051, 7366, 3201, 505, 603, 11, 814, 1766, 430, 279, 14800, 574, 539, 48408, 1523, 11, 439, 1053, 387, 3685, 4245, 311, 24128, 11, 719, 4619, 3794, 10819, 323, 10819, 0, 1115, 18841, 6197, 311, 279, 49803, 430, 922, 220, 2031, 4, 315, 279, 15861, 374, 1903, 709, 315, 264, 26454, 20278, 2663, 6453, 4907, 382, 644, 2875, 11, 279, 15861, 374, 2103, 7982, 11, 323, 433, 596, 3815, 779, 520, 459, 15400, 4478, 13, 763, 2144, 11, 1063, 66017, 527, 7366, 3201, 505, 603, 520, 25753, 315, 927, 220, 1041, 11, 931, 8931, 824, 6596, 0, 3011, 596, 1093, 16706, 2212, 279, 9420, 4661, 220, 19, 3115, 304, 1120, 832, 2132, 2268, 89041, 956, 430, 4059, 1481, 10516, 287, 30]\n"
     ]
    }
   ],
   "source": [
    "import ollama\n",
    "\n",
    "response = ollama.chat(model=\"llama3\", messages=[{\"role\": \"user\", \"content\": \"prompt\"}])\n",
    "print(response[\"message\"][\"content\"])"
   ]
  },
  {
   "cell_type": "code",
   "execution_count": 2,
   "id": "f3dd3a23",
   "metadata": {},
   "outputs": [
    {
     "data": {
      "text/plain": [
       "''"
      ]
     },
     "execution_count": 2,
     "metadata": {},
     "output_type": "execute_result"
    }
   ],
   "source": [
    "output"
   ]
  }
 ],
 "metadata": {
  "kernelspec": {
   "display_name": "rag_first",
   "language": "python",
   "name": "python3"
  },
  "language_info": {
   "codemirror_mode": {
    "name": "ipython",
    "version": 3
   },
   "file_extension": ".py",
   "mimetype": "text/x-python",
   "name": "python",
   "nbconvert_exporter": "python",
   "pygments_lexer": "ipython3",
   "version": "3.13.5"
  }
 },
 "nbformat": 4,
 "nbformat_minor": 5
}
