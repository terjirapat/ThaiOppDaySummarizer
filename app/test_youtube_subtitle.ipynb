{
 "cells": [
  {
   "cell_type": "code",
   "execution_count": 195,
   "id": "eab60894",
   "metadata": {},
   "outputs": [],
   "source": [
    "import requests\n",
    "from bs4 import BeautifulSoup\n",
    "\n",
    "url = \"https://youtu.be/sn0aFEMVTpA?si=DGFpWuwkodFPgTLb\"\n",
    "\n",
    "response = requests.get(url)\n",
    "soup = BeautifulSoup(response.text, 'html.parser')\n",
    "\n",
    "title = soup.title.string.replace(\" - YouTube\", \"\").strip()"
   ]
  },
  {
   "cell_type": "code",
   "execution_count": 196,
   "id": "713eedd2",
   "metadata": {},
   "outputs": [],
   "source": [
    "import re\n",
    "\n",
    "# get video title name\n",
    "def clean_title(text):\n",
    "    return re.sub(r'[^0-9a-zA-Z\\u0E00-\\u0E7F\\.]', '', text)\n",
    "title = clean_title(text=title)\n",
    "\n",
    "# get video id\n",
    "match = re.search(r\"(?:v=|\\/)([0-9A-Za-z_-]{11}).*\", url)\n",
    "if match:\n",
    "    video_id = match.group(1)"
   ]
  },
  {
   "cell_type": "code",
   "execution_count": 197,
   "id": "f0689e1d",
   "metadata": {},
   "outputs": [],
   "source": [
    "from youtube_transcript_api import YouTubeTranscriptApi\n",
    "\n",
    "# Fetch transcript (auto-captions or uploaded)\n",
    "transcript = YouTubeTranscriptApi.get_transcript(video_id, languages=['th', 'en'])\n",
    "\n",
    "# Optionally, save to file\n",
    "file_name = f'{title}_{video_id}'\n",
    "with open(f\"{file_name}_subtitle.txt\", \"w\", encoding=\"utf-8\") as f:\n",
    "    for entry in transcript:\n",
    "        f.write(f\"{entry['start']:.2f}s: {entry['text']}\\n\")\n",
    "        # f.write(f\"{entry['text']}\")\n"
   ]
  },
  {
   "cell_type": "code",
   "execution_count": 198,
   "id": "3fb231f6",
   "metadata": {},
   "outputs": [],
   "source": [
    "title = file_name.split('_')[0]"
   ]
  },
  {
   "cell_type": "code",
   "execution_count": 199,
   "id": "1e77355d",
   "metadata": {},
   "outputs": [],
   "source": [
    "# Read file content\n",
    "with open(f\"{file_name}_subtitle.txt\", \"r\", encoding=\"utf-8\") as f:\n",
    "    text_content = f.read()"
   ]
  },
  {
   "cell_type": "code",
   "execution_count": 200,
   "id": "8b86e5f9",
   "metadata": {},
   "outputs": [
    {
     "name": "stdout",
     "output_type": "stream",
     "text": [
      "Here is the summarized version of the YouTube video subtitle:\n",
      "\n",
      "**Topic 1: Frameworks and Architecture**\n",
      "\n",
      "* The speaker emphasizes the importance of considering the cost-benefit trade-off when using frameworks.\n",
      "* He argues that frameworks often insinuate themselves into code, making it difficult to decouple from them later on.\n",
      "* The speaker suggests that developers should not inject everything into their systems but rather focus on injecting critical dependencies and then pass everything else around normally.\n",
      "\n",
      "**Topic 2: Concurrency and the Fourth Dimension**\n",
      "\n",
      "* The speaker discusses the challenges of concurrency in modern software development without relying on frameworks.\n",
      "* He notes that frameworks can solve concurrency issues, but they often come with a cost over time.\n",
      "* The speaker advises developers to think carefully about whether they need a framework or if they could build the solution themselves.\n",
      "\n",
      "**Topic 3: Overusing Frameworks**\n",
      "\n",
      "* The speaker warns against making the framework decision in the wrong direction, as it can lead to unnecessary complexity and maintenance issues.\n",
      "* He suggests that developers should consider the long-term costs of using frameworks, including security vulnerabilities and configuration challenges.\n",
      "* The speaker advises developers to think carefully about whether they need a framework or if they could build the solution themselves.\n",
      "\n",
      "**Conclusion**\n",
      "In conclusion, the speaker emphasizes the importance of considering the cost-benefit trade-off when using frameworks. He suggests that developers should be cautious in their use of frameworks and consider alternative approaches to building software solutions.\n"
     ]
    }
   ],
   "source": [
    "import ollama\n",
    "\n",
    "user_prompt = f\"\"\"\n",
    "You are an expert summarizer.\n",
    "Your task is to summarize the given YouTube video subtitle into clear, structured topics with as much important detail as possible.\n",
    "\n",
    "**Video Title:** {title}\n",
    "\n",
    "**Subtitle Text (may include timestamps):**\n",
    "{text_content}\n",
    "\n",
    "**Instructions:**\n",
    "- Ignore timestamps if present.\n",
    "- Identify all main topics or sections discussed in the video.\n",
    "- For each topic, write a clear **topic heading** and detailed bullet points (include sub-points if needed).\n",
    "- Remove filler words and repetitions.\n",
    "- Combine related lines into clear, complete thoughts.\n",
    "- Keep the style clear and easy to read.\n",
    "- Cover ALL important points in the subtitle — do not skip parts.\n",
    "- Finish with a short **Conclusion** section that summarizes the overall message in 2–4 sentences.\n",
    "- ⚠️ **Important:** DO NOT add any introduction, opening phrase, or explanation before the first topic. Start the output IMMEDIATELY with the first topic heading.\n",
    "- The first line must be EXACTLY in this format:\n",
    "  **Topic 1: [Title]**\n",
    "- Never write any other sentence before that line.\n",
    "\n",
    "**Format Example:**\n",
    "\n",
    "**Topic 1: Investment Strategy**\n",
    "- Point 1\n",
    "- Point 2\n",
    "  - Sub-point\n",
    "\n",
    "**Topic 2: Earnings Per Share (EPS)**\n",
    "- Point 1\n",
    "...\n",
    "\n",
    "**Conclusion**\n",
    "Short final summary.\n",
    "\"\"\"\n",
    "\n",
    "system_prompt = \"\"\"\n",
    "You are a helpful, precise summarizer.\n",
    "Your role is to read YouTube subtitles and produce an accurate, detailed summary with clear topic headings and bullet points.\n",
    "Ignore timestamps and filler words.\n",
    "NEVER write an introduction or any opening sentence. Only output the formatted summary.\n",
    "Always start DIRECTLY with the first topic heading: **Topic 1: [Title]**\n",
    "Your summaries must be detailed, well-organized, and cover all key points.\n",
    "Always end with a short conclusion.\n",
    "\"\"\"\n",
    "\n",
    "response = ollama.chat(\n",
    "    model=\"llama3\",\n",
    "    messages=[\n",
    "        {\"role\": \"system\", \"content\": system_prompt},\n",
    "        {\"role\": \"user\", \"content\": user_prompt}\n",
    "    ]\n",
    ")\n",
    "\n",
    "summary = response[\"message\"][\"content\"]\n",
    "\n",
    "print(summary)"
   ]
  },
  {
   "cell_type": "markdown",
   "id": "721a4831",
   "metadata": {},
   "source": [
    "เอาสิ่งที่สรุปได้ไปหากูเกิลเพื่อทำ research อีกที"
   ]
  },
  {
   "cell_type": "code",
   "execution_count": 156,
   "id": "18acac49",
   "metadata": {},
   "outputs": [],
   "source": [
    "summary_text = response[\"message\"][\"content\"]\n",
    "\n",
    "# Save to a .txt file\n",
    "with open(f\"{file_name}_summary.txt\", \"w\", encoding=\"utf-8\") as file:\n",
    "    file.write(summary_text)"
   ]
  }
 ],
 "metadata": {
  "kernelspec": {
   "display_name": "ollama_test",
   "language": "python",
   "name": "python3"
  },
  "language_info": {
   "codemirror_mode": {
    "name": "ipython",
    "version": 3
   },
   "file_extension": ".py",
   "mimetype": "text/x-python",
   "name": "python",
   "nbconvert_exporter": "python",
   "pygments_lexer": "ipython3",
   "version": "3.13.5"
  }
 },
 "nbformat": 4,
 "nbformat_minor": 5
}
