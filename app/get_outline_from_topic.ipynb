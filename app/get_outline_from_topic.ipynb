{
 "cells": [
  {
   "cell_type": "code",
   "execution_count": 1,
   "id": "261557d8",
   "metadata": {},
   "outputs": [],
   "source": [
    "import ollama\n",
    "def call_llm(user_prompt: str, system_prompt: str):\n",
    "    response = ollama.chat(\n",
    "        model=\"llama3\",\n",
    "        messages=[\n",
    "            {\"role\": \"system\", \"content\": system_prompt},\n",
    "            {\"role\": \"user\", \"content\": user_prompt}\n",
    "        ]\n",
    "    )\n",
    "    return response[\"message\"][\"content\"]"
   ]
  },
  {
   "cell_type": "code",
   "execution_count": 4,
   "id": "5d76668d",
   "metadata": {},
   "outputs": [],
   "source": [
    "system_prompt = \"\"\"\n",
    "You are an expert educator and curriculum designer.  \n",
    "Your goal is to break down any topic into a structured, hierarchical outline of prerequisite knowledge, concepts, and skills needed to fully understand it.  \n",
    "\n",
    "Rules:\n",
    "- Organize from fundamental to advanced concepts.\n",
    "- Use clear numbered sections and subsections.\n",
    "- Include both theory and practical aspects.\n",
    "- Be concise but informative for each point.\n",
    "- Ensure the outline is logically ordered so someone can study it step-by-step.\n",
    "- Output only the outline. Do not include introductions, explanations, note, or extra commentary.\n",
    "\"\"\"\n",
    "\n",
    "user_prompt = \"how to cook the best steak\""
   ]
  },
  {
   "cell_type": "code",
   "execution_count": 5,
   "id": "6fb90053",
   "metadata": {},
   "outputs": [
    {
     "name": "stdout",
     "output_type": "stream",
     "text": [
      "I. Understanding Steak Cooking\n",
      "\n",
      "1. Types of Steak\n",
      "   1.1. Grain-fed vs. Grass-fed\n",
      "   1.2. Tender cuts (e.g., Filet Mignon) vs. less tender cuts (e.g., Ribeye)\n",
      "   1.3. Dry-aging vs. wet-aging methods\n",
      "\n",
      "II. Essential Cooking Knowledge\n",
      "\n",
      "2. Steak Anatomy\n",
      "   2.1. Understanding the anatomy of a steak: fat, marbling, and muscle fibers\n",
      "\n",
      "3. Temperature Control\n",
      "   3.1. Importance of proper temperature control for cooking steaks\n",
      "   3.2. Understanding internal temperatures for rare (120-130°F), medium-rare (130-135°F),\n",
      "         medium (140-145°F), and well-done (160°F)\n",
      "\n",
      "4. Resting the Steak\n",
      "   4.1. Why resting is crucial: re-distribution of juices, even cooking\n",
      "\n",
      "III. Cooking Techniques\n",
      "\n",
      "5. Grilling\n",
      "   5.1. Direct vs. indirect heat\n",
      "   5.2. Preheating and cooking times for different steak thicknesses\n",
      "\n",
      "6. Pan-Seared\n",
      "   6.1. Chosing the right pan (e.g., cast-iron, stainless steel)\n",
      "   6.2. Cooking techniques: searing, flipping, and finishing with butter or sauce\n",
      "\n",
      "7. Oven-Roasted\n",
      "   7.1. Preheating and cooking times for different steak thicknesses\n",
      "   7.2. Techniques for achieving even browning and internal temperature\n",
      "\n",
      "IV. Steak Enhancement\n",
      "\n",
      "8. Marinating\n",
      "   8.1. Balancing acidity, sweetness, and savory flavors in marinades\n",
      "   8.2. Timing: when to marinate before cooking\n",
      "\n",
      "9. Seasoning and Garnishes\n",
      "   9.1. Salt, pepper, and other seasonings for enhancing flavor\n",
      "   9.2. Fresh herbs, sauces, and condiments for added taste and visual appeal\n"
     ]
    }
   ],
   "source": [
    "response = call_llm(user_prompt=user_prompt, system_prompt=system_prompt)\n",
    "print(response)"
   ]
  },
  {
   "cell_type": "code",
   "execution_count": null,
   "id": "3a3750ac",
   "metadata": {},
   "outputs": [],
   "source": []
  }
 ],
 "metadata": {
  "kernelspec": {
   "display_name": "ollama_test",
   "language": "python",
   "name": "python3"
  },
  "language_info": {
   "codemirror_mode": {
    "name": "ipython",
    "version": 3
   },
   "file_extension": ".py",
   "mimetype": "text/x-python",
   "name": "python",
   "nbconvert_exporter": "python",
   "pygments_lexer": "ipython3",
   "version": "3.13.5"
  }
 },
 "nbformat": 4,
 "nbformat_minor": 5
}
