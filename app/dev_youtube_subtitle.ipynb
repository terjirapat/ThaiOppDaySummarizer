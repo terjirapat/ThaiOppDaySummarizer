{
 "cells": [
  {
   "cell_type": "code",
   "execution_count": null,
   "id": "eab60894",
   "metadata": {},
   "outputs": [],
   "source": [
    "import requests\n",
    "from bs4 import BeautifulSoup\n",
    "\n",
    "url = \"https://www.youtube.com/live/H8S9xg8iYuc?si=B_NMiiS7DPvN99-_\"\n",
    "\n",
    "response = requests.get(url)\n",
    "soup = BeautifulSoup(response.text, 'html.parser')\n",
    "title = soup.title.string.replace(\" - YouTube\", \"\").strip()"
   ]
  },
  {
   "cell_type": "code",
   "execution_count": 2,
   "id": "713eedd2",
   "metadata": {},
   "outputs": [],
   "source": [
    "import re\n",
    "\n",
    "# get video title name\n",
    "def clean_title(text):\n",
    "    return re.sub(r'[^0-9a-zA-Z\\u0E00-\\u0E7F\\.]', '', text)\n",
    "title = clean_title(text=title)\n",
    "\n",
    "# get video id\n",
    "match = re.search(r\"(?:v=|\\/)([0-9A-Za-z_-]{11}).*\", url)\n",
    "if match:\n",
    "    video_id = match.group(1)"
   ]
  },
  {
   "cell_type": "code",
   "execution_count": 3,
   "id": "f0689e1d",
   "metadata": {},
   "outputs": [],
   "source": [
    "from youtube_transcript_api import YouTubeTranscriptApi\n",
    "\n",
    "# Fetch transcript (auto-captions or uploaded)\n",
    "transcript = YouTubeTranscriptApi.get_transcript(video_id, languages=['th', 'en'])\n",
    "\n",
    "# Optionally, save to file\n",
    "file_name = f'{title}_{video_id}'\n",
    "with open(f\"{file_name}_subtitle.txt\", \"w\", encoding=\"utf-8\") as f:\n",
    "    for entry in transcript:\n",
    "        f.write(f\"{entry['start']:.2f}s: {entry['text']}\\n\")\n",
    "        # f.write(f\"{entry['text']}\")\n"
   ]
  },
  {
   "cell_type": "code",
   "execution_count": 4,
   "id": "ec099dc9",
   "metadata": {},
   "outputs": [],
   "source": [
    "import re\n",
    "\n",
    "def load_subtitles(file_path):\n",
    "    subtitles = []\n",
    "    with open(file_path, encoding='utf-8') as f:\n",
    "        for line in f:\n",
    "            match = re.match(r'([0-9.]+)s:\\s(.+)', line.strip())\n",
    "            if match:\n",
    "                start_time = float(match.group(1))\n",
    "                text = match.group(2)\n",
    "                subtitles.append({'start': start_time, 'text': text})\n",
    "    return subtitles\n",
    "\n",
    "def chunk_subtitles(subtitles, chunk_size=60, overlap=20):\n",
    "    \"\"\"\n",
    "    Chunk subtitles into segments of `chunk_size` seconds with `overlap` seconds.\n",
    "    \"\"\"\n",
    "    chunks = []\n",
    "    max_time = subtitles[-1]['start']\n",
    "    start_time = 0\n",
    "\n",
    "    while start_time <= max_time:\n",
    "        end_time = start_time + chunk_size\n",
    "        chunk_text = []\n",
    "        for entry in subtitles:\n",
    "            if start_time <= entry['start'] < end_time:\n",
    "                chunk_text.append(entry['text'])\n",
    "        if chunk_text:\n",
    "            chunks.append({\n",
    "                'start': start_time,\n",
    "                'end': end_time,\n",
    "                'text': ' '.join(chunk_text)\n",
    "            })\n",
    "        start_time += chunk_size - overlap\n",
    "    return chunks\n",
    "\n",
    "subtitles = load_subtitles(f\"{file_name}_subtitle.txt\")\n",
    "chunk_dict = chunk_subtitles(subtitles, chunk_size=30, overlap=10)"
   ]
  },
  {
   "cell_type": "code",
   "execution_count": 5,
   "id": "a876bdb0",
   "metadata": {},
   "outputs": [],
   "source": [
    "chunks = [chunk['text'] for chunk in chunk_dict]"
   ]
  },
  {
   "cell_type": "code",
   "execution_count": null,
   "id": "a09611e0",
   "metadata": {},
   "outputs": [
    {
     "name": "stderr",
     "output_type": "stream",
     "text": [
      "c:\\Users\\terjr\\miniconda3\\envs\\ollama_test\\Lib\\site-packages\\tqdm\\auto.py:21: TqdmWarning: IProgress not found. Please update jupyter and ipywidgets. See https://ipywidgets.readthedocs.io/en/stable/user_install.html\n",
      "  from .autonotebook import tqdm as notebook_tqdm\n"
     ]
    }
   ],
   "source": [
    "from sentence_transformers import SentenceTransformer\n",
    "\n",
    "embedding_model = SentenceTransformer('all-MiniLM-L6-v2')\n",
    "# Embed text\n",
    "embeddings = embedding_model.encode(chunks)\n",
    "print(f\"Vector length: {len(embeddings[0])}\")"
   ]
  },
  {
   "cell_type": "code",
   "execution_count": 4,
   "id": "a183a578",
   "metadata": {},
   "outputs": [],
   "source": [
    "import chromadb\n",
    "\n",
    "# Local vector DB (PersistentClient = new style!)\n",
    "chroma_client = chromadb.PersistentClient(path=\"./vector_database\")\n",
    "\n",
    "collection = chroma_client.get_or_create_collection(name=\"my_local_collection\")"
   ]
  },
  {
   "cell_type": "code",
   "execution_count": 8,
   "id": "5628b7a9",
   "metadata": {},
   "outputs": [],
   "source": [
    "# Cloud collections work the same way!\n",
    "collection.add(\n",
    "    ids=[f\"doc_{i}\" for i in range(len(chunks))],  # unique IDs\n",
    "    embeddings=embeddings.tolist(),               # must be list of lists!\n",
    "    documents=chunks,                              # optional, but useful\n",
    "    metadatas=[{\"source\": \"example\"} for _ in chunks]  # optional metadata\n",
    ")"
   ]
  },
  {
   "cell_type": "code",
   "execution_count": 9,
   "id": "3fb231f6",
   "metadata": {},
   "outputs": [],
   "source": [
    "title = file_name.split('_')[0]"
   ]
  },
  {
   "cell_type": "code",
   "execution_count": 23,
   "id": "ca4bbe4e",
   "metadata": {},
   "outputs": [],
   "source": [
    "query = \"what are the growth driven strategy for the future?\"\n",
    "# query = \"\"\"Analyze the company's revenue and profit performance over the past 4 quarters.\n",
    "# 1. Compare YoY (year-over-year) and QoQ (quarter-over-quarter) changes.\n",
    "# 2. Check whether the actual results met, exceeded, or missed previous guidance.\n",
    "# 3. Highlight any unexpected spikes, drops, or anomalies.\n",
    "# 4. If possible, explain the reasons behind these surprises based on management's comments.\"\"\"\n",
    "\n",
    "# Embed locally\n",
    "query_embedding = embedding_model.encode([query])\n",
    "\n",
    "# Search Chroma Cloud\n",
    "results = collection.query(\n",
    "    query_embeddings=query_embedding.tolist(),\n",
    "    n_results=10\n",
    ")\n",
    "\n",
    "# Extract relevant chunks\n",
    "contexts = results['documents'][0]\n",
    "context_text = \"\\n\".join(contexts)"
   ]
  },
  {
   "cell_type": "code",
   "execution_count": 20,
   "id": "6603be34",
   "metadata": {},
   "outputs": [
    {
     "data": {
      "text/plain": [
       "['อย่างเช่นเอ่อแตงกวาดองหรือว่าที่สำคัญ เนี่ยที่ร้านไก่โจวิงเนี่ยคือเรายังแบบ หยิบตัวหลักของเราที่เป็นสลัดออร์แกนิค อ่ะมา develop เพิ่มเติมเพราะว่าบางทีอ่ะ เอ่ออย่างอย่าผมผมไปอู่ไปเนี่ยเราเป็นพ่อ ใช่มั้ยบางทีเราก็สามารถกินสลัดได้อยู่ ส่วนลูกๆที่ชอบกินไข่เงี้ยก็ก็กินไก่ไป อะไรอย่างเงี้ยซึ่งเมนูที่เราเอ่อ Develop รสชาติมาเนี่ยมันจะมีแบบเผ็ดๆสุดๆก็อาจจะ เป็นผู้ใหญ่ทานใช่มั้ครับแต่ว่าถ้าเผ็ด',\n",
       " ' 10 ของซอที่ขายดีด้วยนะครับก็ทั้งนี้ ทั้งนั้นเ่อในสิ่งที่เราทำสำหรับโจงเราก็ มองเป็นโอกาสอยู่ 3 ด้านหลักๆเนาะอันแรก เนี่ยเราคิดว่าแบรนด์เนี้ยตอบโจทย์กลุ่ม ลูกค้าเจนซีซึ่งเป็นกลุ่มนักเรียนนัก ศึกษากลุ่มกลุ่มวัยทำงานที่อายุประมาณ 10 ต้นๆถึง 20 ปลายๆนะครับก็จะเป็นอีกทarget กรุ๊ปนึงที่เพิ่มเติมจากโอกาจู่ซึ่ง โอ๊กจู่อาจจะแบบเป็นกลุ่มครอบครัวแล้วก็ มีอายุมากขึ้นตรงนี้เองแล้วก็ตอบโจทย์ กลุ่มที่อายุน้อยลงนะครับแล้วก็ข้อที่ 2 เนี่ยคือเหมือนว่าเราก็ develop ควบคู่',\n",
       " 'ยังมองว่าเราก็ยังเติบโตได้ทั้งในส่วนของ ตัวโอ้กจิ๋วเองและแบรนด์ใหม่ๆของเราที่ เราก็เปิดอยู่นะครับก็แน่นอนครับเราก็อาจ จะต้องเปิดสาขาแบบที่ระมัดระวังมากขึ้น  selective ในเรื่องของโลคationที่ตอบ โจทย์จริงๆรวมถึง strategy ต่างๆที่เราจะ รักษาในการเติบโตไม่ว่าจะเป็น New  Product ก็ดีหรือการคollaborationต่างๆ นะครับรวมถึงแบรนด์ใหม่ๆนะครับซึ่งเรามอง ว่ากลยุทธเหล่าเนี้ยจะรักษาในเรื่องของ',\n",
       " 'อะไรอย่างเงี้ยซึ่งเมนูที่เราเอ่อ Develop รสชาติมาเนี่ยมันจะมีแบบเผ็ดๆสุดๆก็อาจจะ เป็นผู้ใหญ่ทานใช่มั้ครับแต่ว่าถ้าเผ็ด น้อยอย่างเช่นอ่าgarิกพมซานหรือว่า โริปัจจุบันเนี่ยจากตัวเลขที่ออกมาเนี่ย garิกพมซานกับโริก็ขายดีมากๆแล้วติดท็อป  10 ของซอที่ขายดีด้วยนะครับก็ทั้งนี้ ทั้งนั้นเ่อในสิ่งที่เราทำสำหรับโจงเราก็ มองเป็นโอกาสอยู่ 3 ด้านหลักๆเนาะอันแรก เนี่ยเราคิดว่าแบรนด์เนี้ยตอบโจทย์กลุ่ม',\n",
       " 'การของ Opportunity  Day ของบริษัทปลุก ผักพรรักแม่ในวันนี้นะคะเราได้รับเกียรติ จากผู้บริหารทั้ง 3 ท่านค่ะท่านแรกก็จะ เป็นคุณชรานะคะ CFO  CEO ค่ะสวัสดีครับ ค่ะท่านที่ 2 คุณวิทเพ็ญ CFO ค่ะสดีค่ะ ท่านที่ 3 คุณจิรายุทธ CAO ค่ะสวัสดีครับ ค่ะก็วันนี้ทั้ง 3 ท่านจะให้เกียรติเราใน การพีเซนในวันนี้นะคะสำหรับ Agenda เนี่ย เรื่องแรกก็จะเป็น Business อัปเดตนะคะ',\n",
       " 'จ่ายที่เกิดขึ้นเนี่ยเป็นการพัฒนาสูตร ร่วมกันนะครับเราไม่ได้จ่ายเป็นในส่วนของ เปอร์เซ็นต์ sharing นะครับแล้วก็เรามอง ว่าการที่เรากับเผ็ดๆเนี่ยเราก็อ่าได้เรา มีเentก็คือเราสามารถได้trราฟฟิจากทางลูก ค้าที่เป็นแฟนคลับของทางเบ็ดๆได้เข้ามา ลองในส่วนของทางโอ้กระทิวด้วยนะครับก็ถัด ไปในส่วนของตัว Business  Outlook นะครับ ก็อยากจะขออัปเดตในส่วนของตัวกลยุทธ์ซึ่ง',\n",
       " 'แล้วแวกก็ราวๆเฉลี่ยอยู่ที่ซักเกือบๆ 10% ทีนี้ในส่วนของ ROI เนี่ยเข้าใจว่านักลง ทุนคงเอ่อ concern ในเรื่องของการที่เรา ไปลงทุนอะไรก็ตามหรือการขยายสาขาหรือ กระทั่ง asset ต่างๆที่เราจะเอามา ซัพพอร์ตการดำเนดำเนินธุรกิจอ่ะนะคะต้อง เรียนว่าทุกๆครั้งก่อนที่เราจะลงมือทำ อะไรเนี่ยข้อมูลเป็นสิ่งสำคัญแล้วเราต้อง เอามาทำ Fibility ซึ่ง ROI จากอดีตก็ดี เนี่ยแน่นอนมันเกิน 10% อยู่แล้วนะคะที่ เราลงทุนไม่ว่าจะเป็นแบรนด์เก่าแบรนด์ ใหม่รวมไปถึงการลงทุนใน Fundamental ต่าง',\n",
       " 'โอ๊กจู่อาจจะแบบเป็นกลุ่มครอบครัวแล้วก็ มีอายุมากขึ้นตรงนี้เองแล้วก็ตอบโจทย์ กลุ่มที่อายุน้อยลงนะครับแล้วก็ข้อที่ 2 เนี่ยคือเหมือนว่าเราก็ develop ควบคู่ กับแบรนด์โjนะครับความเป็นเ่อกลุ่มลูกค้า เดิมของ OKJ เนี่ยก็จะสามารถรับรู้แล้วก็ มาทดลองทางโจงได้นะครับแล้วก็ที่ 3 เนี่ย โมเดลธุรกิจเนี่ยเนื่องจากว่าใช้พื้นที่ ค่อนข้างน้อยกว่า OKJ ค่อนข้างเยอะนะครับ ใช้พื้นที่แค่ประมาณแบบครึ่งนึงหรือว่า แค่ 1 ใน 3 อ่ะครับแล้วก็โมเดลธุรกิจก็ ยังสามารถแบบมีทั้งแบบตัว DIIN  Flagship',\n",
       " 'ค่ะก็วันนี้ทั้ง 3 ท่านจะให้เกียรติเราใน การพีเซนในวันนี้นะคะสำหรับ Agenda เนี่ย เรื่องแรกก็จะเป็น Business อัปเดตนะคะ เดี๋ยวจะอัปเดตโดยคุณชลากรนะคะแล้วก็  Business  Outlook ก็เป็นคุณชลากรนะคะ ค่ะก็เดี๋ยวจะขอเริ่มที่ไซส์แรกเลยแล้ว กันค่ะ ครับผมก็ในส่วนของตัวอ่าอัปเดตนะครับ ไตรมาส 1 ของปี 68 เนี่ยนะครับเราก็ทำได้ ดีขึ้นนะครับทั้งในส่วนของตัวยอดขายกำไร',\n",
       " 'ว่าจริงๆเราไม่กังวลแต่ว่าเราก็มีการ มอนเตอร์ตลอดเวลานะครับแล้วก็เรามีใน เรื่องของ Risk  Management ก็คือการ บริหารความเสี่ยงซึ่งตรงเนี้ยเรามีการ มอนิตอร์ตลอดอยู่แล้วแล้วก็มีการคุยกัน ทุกๆอ่าทุกๆคทุกๆเดือนนะครับแล้วก็พยายาม ที่จะปรับปรับตัวปรับกลยุทธ์ให้ให้ทัน เวลาให้ทันมากให้ทันท่วงทีมากขึ้นครับ ค่ะคำถามถัดไปนะคะบริษัทให้ความสำคัญกับ']"
      ]
     },
     "execution_count": 20,
     "metadata": {},
     "output_type": "execute_result"
    }
   ],
   "source": [
    "contexts"
   ]
  },
  {
   "cell_type": "code",
   "execution_count": 25,
   "id": "8bd141f3",
   "metadata": {},
   "outputs": [
    {
     "name": "stdout",
     "output_type": "stream",
     "text": [
      "Based on the context, it appears that the company is focusing on three main areas of opportunity:\n",
      "\n",
      "1. Brand expansion: The company believes its brand can respond to the needs of a new target group, such as young adults and families.\n",
      "2. Organic growth: They aim to develop their own organic growth strategy, which includes expanding existing locations and opening new ones in strategic locations.\n",
      "3. Collaboration and innovation: The company sees opportunities for collaboration with other brands and partners to drive growth and innovation.\n",
      "\n",
      "In terms of specific growth-driven strategies, the CEO mentioned that they will focus on developing their brand's presence among younger demographics (ages 10-20) and expanding into new markets. They also aim to open more locations in strategic areas, while maintaining a selective approach to ensure ROI is maintained.\n",
      "\n",
      "Additionally, the CFO mentioned that they are monitoring risk management closely, ensuring that the company has a robust system in place to mitigate risks and adjust strategies as needed.\n",
      "\n",
      "In summary, the growth-driven strategy for the future appears to involve:\n",
      "\n",
      "* Expanding the brand's presence among younger demographics\n",
      "* Selectively opening new locations in strategic areas\n",
      "* Collaborating with other brands and partners to drive innovation and growth\n",
      "* Maintaining a focus on risk management and adjusting strategies as needed\n",
      "\n",
      "It is worth noting that these insights are based solely on the provided context, and further analysis or additional information may be necessary for a more comprehensive understanding of the company's strategy.\n"
     ]
    }
   ],
   "source": [
    "import ollama\n",
    "\n",
    "system_prompt = f\"\"\"\n",
    "You are a financial analyst specializing in Thai stock market Opportunity Day (Opp Day) presentations. \n",
    "Your role is to carefully analyze company transcripts, investor Q&A, and management comments to extract meaningful insights.\n",
    "Focus on detecting trends in revenue, profit, margin changes, cost structures, and management guidance.\n",
    "Highlight any signals of growth, risk, hidden problems, or strategic changes.\n",
    "Always cross-check the management's statements with financial performance.\n",
    "Be objective, critical, and concise.\n",
    "When relevant, summarize both hard data (numbers) and soft signals (tone, confidence, body language hints, or evasive answers).\n",
    "Output clear, actionable insights and note any red flags or questions that need deeper follow-up.\n",
    "Your answers must be structured, clear, and suitable for an investor deciding whether to buy, hold, or sell the stock.\n",
    "\"\"\"\n",
    "\n",
    "user_prompt = f\"\"\"Answer the question below using ONLY the context below.\n",
    "\n",
    "Context:\n",
    "{context_text}\n",
    "\n",
    "Question:\n",
    "{query}\n",
    "\n",
    "Answer:\"\"\"\n",
    "\n",
    "\n",
    "response = ollama.chat(\n",
    "    model=\"llama3\",\n",
    "    messages=[\n",
    "        {\"role\": \"system\", \"content\": system_prompt},\n",
    "        {\"role\": \"user\", \"content\": user_prompt}\n",
    "    ]\n",
    ")\n",
    "\n",
    "summary = response[\"message\"][\"content\"]\n",
    "\n",
    "print(summary)"
   ]
  }
 ],
 "metadata": {
  "kernelspec": {
   "display_name": "ollama_test",
   "language": "python",
   "name": "python3"
  },
  "language_info": {
   "codemirror_mode": {
    "name": "ipython",
    "version": 3
   },
   "file_extension": ".py",
   "mimetype": "text/x-python",
   "name": "python",
   "nbconvert_exporter": "python",
   "pygments_lexer": "ipython3",
   "version": "3.13.5"
  }
 },
 "nbformat": 4,
 "nbformat_minor": 5
}
