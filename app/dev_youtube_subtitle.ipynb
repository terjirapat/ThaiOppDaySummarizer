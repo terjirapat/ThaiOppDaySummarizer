{
 "cells": [
  {
   "cell_type": "code",
   "execution_count": 1,
   "id": "eab60894",
   "metadata": {},
   "outputs": [],
   "source": [
    "import requests\n",
    "from bs4 import BeautifulSoup\n",
    "\n",
    "url = \"https://www.youtube.com/live/H8S9xg8iYuc?si=B_NMiiS7DPvN99-_\"\n",
    "\n",
    "response = requests.get(url)\n",
    "soup = BeautifulSoup(response.text, 'html.parser')\n",
    "\n",
    "title = soup.title.string.replace(\" - YouTube\", \"\").strip()"
   ]
  },
  {
   "cell_type": "code",
   "execution_count": 2,
   "id": "713eedd2",
   "metadata": {},
   "outputs": [],
   "source": [
    "import re\n",
    "\n",
    "# get video title name\n",
    "def clean_title(text):\n",
    "    return re.sub(r'[^0-9a-zA-Z\\u0E00-\\u0E7F\\.]', '', text)\n",
    "title = clean_title(text=title)\n",
    "\n",
    "# get video id\n",
    "match = re.search(r\"(?:v=|\\/)([0-9A-Za-z_-]{11}).*\", url)\n",
    "if match:\n",
    "    video_id = match.group(1)"
   ]
  },
  {
   "cell_type": "code",
   "execution_count": 3,
   "id": "f0689e1d",
   "metadata": {},
   "outputs": [],
   "source": [
    "from youtube_transcript_api import YouTubeTranscriptApi\n",
    "\n",
    "# Fetch transcript (auto-captions or uploaded)\n",
    "transcript = YouTubeTranscriptApi.get_transcript(video_id, languages=['th', 'en'])\n",
    "\n",
    "# Optionally, save to file\n",
    "file_name = f'{title}_{video_id}'\n",
    "with open(f\"{file_name}_subtitle.txt\", \"w\", encoding=\"utf-8\") as f:\n",
    "    for entry in transcript:\n",
    "        f.write(f\"{entry['start']:.2f}s: {entry['text']}\\n\")\n",
    "        # f.write(f\"{entry['text']}\")\n"
   ]
  },
  {
   "cell_type": "code",
   "execution_count": 4,
   "id": "ec099dc9",
   "metadata": {},
   "outputs": [],
   "source": [
    "import re\n",
    "\n",
    "def load_subtitles(file_path):\n",
    "    subtitles = []\n",
    "    with open(file_path, encoding='utf-8') as f:\n",
    "        for line in f:\n",
    "            match = re.match(r'([0-9.]+)s:\\s(.+)', line.strip())\n",
    "            if match:\n",
    "                start_time = float(match.group(1))\n",
    "                text = match.group(2)\n",
    "                subtitles.append({'start': start_time, 'text': text})\n",
    "    return subtitles\n",
    "\n",
    "def chunk_subtitles(subtitles, chunk_size=60, overlap=20):\n",
    "    \"\"\"\n",
    "    Chunk subtitles into segments of `chunk_size` seconds with `overlap` seconds.\n",
    "    \"\"\"\n",
    "    chunks = []\n",
    "    max_time = subtitles[-1]['start']\n",
    "    start_time = 0\n",
    "\n",
    "    while start_time <= max_time:\n",
    "        end_time = start_time + chunk_size\n",
    "        chunk_text = []\n",
    "        for entry in subtitles:\n",
    "            if start_time <= entry['start'] < end_time:\n",
    "                chunk_text.append(entry['text'])\n",
    "        if chunk_text:\n",
    "            chunks.append({\n",
    "                'start': start_time,\n",
    "                'end': end_time,\n",
    "                'text': ' '.join(chunk_text)\n",
    "            })\n",
    "        start_time += chunk_size - overlap\n",
    "    return chunks\n",
    "\n",
    "subtitles = load_subtitles(f\"{file_name}_subtitle.txt\")\n",
    "chunk_dict = chunk_subtitles(subtitles, chunk_size=30, overlap=10)"
   ]
  },
  {
   "cell_type": "code",
   "execution_count": 5,
   "id": "a876bdb0",
   "metadata": {},
   "outputs": [],
   "source": [
    "chunks = [chunk['text'] for chunk in chunk_dict]"
   ]
  },
  {
   "cell_type": "code",
   "execution_count": 6,
   "id": "a09611e0",
   "metadata": {},
   "outputs": [
    {
     "name": "stderr",
     "output_type": "stream",
     "text": [
      "c:\\Users\\terjr\\miniconda3\\envs\\ollama_test\\Lib\\site-packages\\tqdm\\auto.py:21: TqdmWarning: IProgress not found. Please update jupyter and ipywidgets. See https://ipywidgets.readthedocs.io/en/stable/user_install.html\n",
      "  from .autonotebook import tqdm as notebook_tqdm\n"
     ]
    },
    {
     "name": "stdout",
     "output_type": "stream",
     "text": [
      "Vector length: 384\n"
     ]
    }
   ],
   "source": [
    "from sentence_transformers import SentenceTransformer\n",
    "\n",
    "embedding_model = SentenceTransformer('all-MiniLM-L6-v2')\n",
    "# Embed text\n",
    "embeddings = embedding_model.encode(chunks)\n",
    "print(f\"Vector length: {len(embeddings[0])}\")"
   ]
  },
  {
   "cell_type": "code",
   "execution_count": 7,
   "id": "a183a578",
   "metadata": {},
   "outputs": [],
   "source": [
    "import chromadb\n",
    "\n",
    "# Local vector DB (PersistentClient = new style!)\n",
    "chroma_client = chromadb.PersistentClient(path=\"./vector_database\")\n",
    "\n",
    "collection = chroma_client.get_or_create_collection(name=\"my_local_collection\")"
   ]
  },
  {
   "cell_type": "code",
   "execution_count": 8,
   "id": "5628b7a9",
   "metadata": {},
   "outputs": [],
   "source": [
    "# Cloud collections work the same way!\n",
    "collection.add(\n",
    "    ids=[f\"doc_{i}\" for i in range(len(chunks))],  # unique IDs\n",
    "    embeddings=embeddings.tolist(),               # must be list of lists!\n",
    "    documents=chunks,                              # optional, but useful\n",
    "    metadatas=[{\"source\": \"example\"} for _ in chunks]  # optional metadata\n",
    ")"
   ]
  },
  {
   "cell_type": "code",
   "execution_count": 9,
   "id": "3fb231f6",
   "metadata": {},
   "outputs": [],
   "source": [
    "title = file_name.split('_')[0]"
   ]
  },
  {
   "cell_type": "code",
   "execution_count": 14,
   "id": "ca4bbe4e",
   "metadata": {},
   "outputs": [],
   "source": [
    "# query = \"what are the growth driven strategy in the future?\"\n",
    "query = \"\"\"Analyze the company's revenue and profit performance over the past 4 quarters.\n",
    "1. Compare YoY (year-over-year) and QoQ (quarter-over-quarter) changes.\n",
    "2. Check whether the actual results met, exceeded, or missed previous guidance.\n",
    "3. Highlight any unexpected spikes, drops, or anomalies.\n",
    "4. If possible, explain the reasons behind these surprises based on management's comments.\"\"\"\n",
    "\n",
    "# Embed locally\n",
    "query_embedding = embedding_model.encode([query])\n",
    "\n",
    "# Search Chroma Cloud\n",
    "results = collection.query(\n",
    "    query_embeddings=query_embedding.tolist(),\n",
    "    n_results=20\n",
    ")\n",
    "\n",
    "# Extract relevant chunks\n",
    "contexts = results['documents'][0]\n",
    "context_text = \"\\n\".join(contexts)"
   ]
  },
  {
   "cell_type": "code",
   "execution_count": 15,
   "id": "a536ef66",
   "metadata": {},
   "outputs": [
    {
     "name": "stdout",
     "output_type": "stream",
     "text": [
      "Based on the context provided, here is an analysis of the company's revenue and profit performance over the past 4 quarters:\n",
      "\n",
      "1. YoY (year-over-year) changes:\n",
      "The text does not provide specific numbers for revenue and profit growth year-over-year. However, it mentions that in Q4 of the previous year, the Redemption rate was higher than expected due to issues with app development.\n",
      "\n",
      "2. QoQ (quarter-over-quarter) changes:\n",
      "The text suggests that there was a significant increase in revenue and profit from Q1 to Q4 of the same year. In Q4, revenue growth reached 33%, which is a notable jump compared to previous quarters.\n",
      "\n",
      "3. Actual results vs. guidance:\n",
      "There is no specific mention of whether the actual results met, exceeded, or missed previous guidance. However, it seems that there were some unexpected changes in the business performance during certain periods.\n",
      "\n",
      "4. Reasons behind surprises:\n",
      "According to management's comments, one reason for the surprise in Q4 was issues with app development (Redemption rate). Additionally, the company may have benefited from its ability to develop new products and services, which contributed to revenue growth.\n",
      "\n",
      "Here is a summary of the analysis:\n",
      "\n",
      "* YoY changes: Not specified\n",
      "* QoQ changes: Revenue and profit increased significantly from Q1 to Q4\n",
      "* Actual results vs. guidance: Not specified\n",
      "* Reasons behind surprises: Issues with app development (Redemption rate) and new product/service development\n",
      "\n",
      "Please note that this analysis is based on the provided context, which may not be exhaustive or entirely clear in some aspects.\n"
     ]
    }
   ],
   "source": [
    "import ollama\n",
    "\n",
    "system_prompt = f\"\"\"\n",
    "you are the professional investor\n",
    "\"\"\"\n",
    "\n",
    "user_prompt = f\"\"\"Answer the question below using ONLY the context below.\n",
    "\n",
    "Context:\n",
    "{context_text}\n",
    "\n",
    "Question:\n",
    "{query}\n",
    "\n",
    "Answer:\"\"\"\n",
    "\n",
    "\n",
    "response = ollama.chat(\n",
    "    model=\"llama3\",\n",
    "    messages=[\n",
    "        # {\"role\": \"system\", \"content\": system_prompt},\n",
    "        {\"role\": \"user\", \"content\": user_prompt}\n",
    "    ]\n",
    ")\n",
    "\n",
    "summary = response[\"message\"][\"content\"]\n",
    "\n",
    "print(summary)"
   ]
  }
 ],
 "metadata": {
  "kernelspec": {
   "display_name": "ollama_test",
   "language": "python",
   "name": "python3"
  },
  "language_info": {
   "codemirror_mode": {
    "name": "ipython",
    "version": 3
   },
   "file_extension": ".py",
   "mimetype": "text/x-python",
   "name": "python",
   "nbconvert_exporter": "python",
   "pygments_lexer": "ipython3",
   "version": "3.13.5"
  }
 },
 "nbformat": 4,
 "nbformat_minor": 5
}
